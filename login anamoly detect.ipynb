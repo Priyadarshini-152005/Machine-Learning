{
 "cells": [
  {
   "cell_type": "code",
   "execution_count": 1,
   "id": "5ec90260",
   "metadata": {},
   "outputs": [
    {
     "name": "stdout",
     "output_type": "stream",
     "text": [
      "   user_id  login_hour  ip_risk_score  location_change  device_change  \\\n",
      "0        1           9             10                0              0   \n",
      "1        2          18             40                0              0   \n",
      "2        3           2             80                1              1   \n",
      "3        4          23             90                1              1   \n",
      "4        5          10             15                0              0   \n",
      "5        6          11             12                0              0   \n",
      "6        7           1             75                1              0   \n",
      "7        8          22             85                1              1   \n",
      "8        9           8             10                0              0   \n",
      "9       10          13             18                0              0   \n",
      "\n",
      "  anomaly_label  \n",
      "0        Normal  \n",
      "1     Anomalous  \n",
      "2        Normal  \n",
      "3        Normal  \n",
      "4        Normal  \n",
      "5        Normal  \n",
      "6     Anomalous  \n",
      "7        Normal  \n",
      "8        Normal  \n",
      "9        Normal  \n"
     ]
    }
   ],
   "source": [
    "import pandas as pd\n",
    "from sklearn.ensemble import IsolationForest\n",
    "from sklearn.preprocessing import StandardScaler\n",
    "\n",
    "data = pd.read_csv('login_data.csv')\n",
    "\n",
    "features = data[['login_hour', 'ip_risk_score', 'location_change', 'device_change']]\n",
    "scaler = StandardScaler()\n",
    "features_scaled = scaler.fit_transform(features)\n",
    "\n",
    "model = IsolationForest(n_estimators=100, contamination=0.2, random_state=42)\n",
    "model.fit(features_scaled)\n",
    "\n",
    "data['anomaly'] = model.predict(features_scaled)\n",
    "data['anomaly_label'] = data['anomaly'].map({1: 'Normal', -1: 'Anomalous'})\n",
    "\n",
    "print(data[['user_id', 'login_hour', 'ip_risk_score', 'location_change', 'device_change', 'anomaly_label']])"
   ]
  }
 ],
 "metadata": {
  "kernelspec": {
   "display_name": "Python 3",
   "language": "python",
   "name": "python3"
  },
  "language_info": {
   "codemirror_mode": {
    "name": "ipython",
    "version": 3
   },
   "file_extension": ".py",
   "mimetype": "text/x-python",
   "name": "python",
   "nbconvert_exporter": "python",
   "pygments_lexer": "ipython3",
   "version": "3.13.5"
  }
 },
 "nbformat": 4,
 "nbformat_minor": 5
}
