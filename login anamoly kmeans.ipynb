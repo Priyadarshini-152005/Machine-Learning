{
 "cells": [
  {
   "cell_type": "code",
   "execution_count": 1,
   "id": "decc4f00",
   "metadata": {},
   "outputs": [
    {
     "name": "stdout",
     "output_type": "stream",
     "text": [
      "   user_id  login_hour  ip_risk_score  location_change  device_change  \\\n",
      "0        1           9             10                0              0   \n",
      "1        2          18             40                0              0   \n",
      "2        3           2             80                1              1   \n",
      "3        4          23             90                1              1   \n",
      "4        5          10             15                0              0   \n",
      "5        6          11             12                0              0   \n",
      "6        7           1             75                1              0   \n",
      "7        8          22             85                1              1   \n",
      "8        9           8             10                0              0   \n",
      "9       10          13             18                0              0   \n",
      "\n",
      "  anomaly_label  \n",
      "0        Normal  \n",
      "1        Normal  \n",
      "2        Normal  \n",
      "3     Anomalous  \n",
      "4        Normal  \n",
      "5        Normal  \n",
      "6     Anomalous  \n",
      "7        Normal  \n",
      "8        Normal  \n",
      "9        Normal  \n"
     ]
    }
   ],
   "source": [
    "import pandas as pd\n",
    "from sklearn.cluster import KMeans\n",
    "from sklearn.preprocessing import StandardScaler\n",
    "import numpy as np\n",
    "\n",
    "data = pd.read_csv('login_data.csv')\n",
    "\n",
    "if 'user_id' not in data.columns:\n",
    "    data['user_id'] = range(1, len(data) + 1)\n",
    "\n",
    "features = data[['login_hour', 'ip_risk_score', 'location_change', 'device_change']]\n",
    "\n",
    "scaler = StandardScaler()\n",
    "features_scaled = scaler.fit_transform(features)\n",
    "\n",
    "kmeans = KMeans(n_clusters=2, random_state=42, n_init=10)\n",
    "data['cluster'] = kmeans.fit_predict(features_scaled)\n",
    "\n",
    "distances = kmeans.transform(features_scaled)\n",
    "data['distance_to_center'] = np.min(distances, axis=1)\n",
    "\n",
    "threshold = data['distance_to_center'].quantile(0.80)\n",
    "data['anomaly'] = data['distance_to_center'] > threshold\n",
    "data['anomaly_label'] = data['anomaly'].map({True: 'Anomalous', False: 'Normal'})\n",
    "\n",
    "print(data[['user_id', 'login_hour', 'ip_risk_score', 'location_change', 'device_change', 'anomaly_label']])"
   ]
  }
 ],
 "metadata": {
  "kernelspec": {
   "display_name": "Python 3",
   "language": "python",
   "name": "python3"
  },
  "language_info": {
   "codemirror_mode": {
    "name": "ipython",
    "version": 3
   },
   "file_extension": ".py",
   "mimetype": "text/x-python",
   "name": "python",
   "nbconvert_exporter": "python",
   "pygments_lexer": "ipython3",
   "version": "3.13.5"
  }
 },
 "nbformat": 4,
 "nbformat_minor": 5
}
