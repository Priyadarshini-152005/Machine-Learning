{
 "cells": [
  {
   "cell_type": "code",
   "execution_count": 3,
   "id": "f990218a",
   "metadata": {},
   "outputs": [
    {
     "name": "stdout",
     "output_type": "stream",
     "text": [
      "Will the student pass? Yes\n"
     ]
    }
   ],
   "source": [
    "from sklearn.model_selection import train_test_split\n",
    "from sklearn.linear_model import LogisticRegression\n",
    "\n",
    "X = [\n",
    "    [1, 5, 60, 40],\n",
    "    [2, 6, 70, 50],\n",
    "    [3, 5, 65, 55],\n",
    "    [4, 6, 75, 60],\n",
    "    [5, 5, 80, 65],\n",
    "    [6, 6, 85, 70],\n",
    "    [7, 7, 90, 75],\n",
    "    [8, 6, 95, 85],\n",
    "    [9, 7, 98, 90],\n",
    "    [10, 8, 100, 95],\n",
    "    [2, 4, 50, 40],\n",
    "    [3, 3, 55, 45],\n",
    "    [4, 5, 60, 50],\n",
    "    [6, 4, 70, 60],\n",
    "    [7, 5, 75, 65],\n",
    "    [8, 7, 80, 70],\n",
    "    [9, 8, 85, 80],\n",
    "    [10, 7, 90, 90],\n",
    "    [1, 4, 40, 35],\n",
    "    [2, 3, 45, 30]\n",
    "]\n",
    "\n",
    "y = [\n",
    "    0, 0, 0, 0, 0,\n",
    "    1, 1, 1, 1, 1,\n",
    "    0, 0, 0, 1, 1,\n",
    "    1, 1, 1, 0, 0\n",
    "]\n",
    "\n",
    "X_train, X_test, y_train, y_test = train_test_split(X, y, test_size=0.2, random_state=42)\n",
    "\n",
    "model = LogisticRegression(max_iter=1000)\n",
    "model.fit(X_train, y_train)\n",
    "\n",
    "new_student = [[6, 6, 80, 75]] \n",
    "prediction = model.predict(new_student)[0]\n",
    "print(\"Will the student pass?\", \"Yes\" if prediction == 1 else \"No\")"
   ]
  }
 ],
 "metadata": {
  "kernelspec": {
   "display_name": "Python 3",
   "language": "python",
   "name": "python3"
  },
  "language_info": {
   "codemirror_mode": {
    "name": "ipython",
    "version": 3
   },
   "file_extension": ".py",
   "mimetype": "text/x-python",
   "name": "python",
   "nbconvert_exporter": "python",
   "pygments_lexer": "ipython3",
   "version": "3.13.5"
  }
 },
 "nbformat": 4,
 "nbformat_minor": 5
}
