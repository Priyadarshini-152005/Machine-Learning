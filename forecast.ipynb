{
 "cells": [
  {
   "cell_type": "code",
   "execution_count": 11,
   "id": "dff008f9",
   "metadata": {},
   "outputs": [
    {
     "name": "stdout",
     "output_type": "stream",
     "text": [
      "2025 147\n",
      "2026 144\n",
      "2027 147\n",
      "2028 144\n",
      "2029 146\n",
      "2030 144\n",
      "2031 146\n",
      "2032 145\n",
      "2033 146\n",
      "2034 145\n",
      "2035 146\n"
     ]
    }
   ],
   "source": [
    "import pandas as pd\n",
    "from statsmodels.tsa.arima.model import ARIMA\n",
    "\n",
    "years = pd.period_range(start='2016', end='2024', freq='Y')\n",
    "data = pd.DataFrame({\n",
    "    'crime_rate': [125,124,130,142,138,150,146,151,143]\n",
    "}, index=years)\n",
    "\n",
    "model = ARIMA(data['crime_rate'], order=(1,1,1))\n",
    "model_fit = model.fit()\n",
    "\n",
    "forecast_result = model_fit.get_forecast(steps=11)\n",
    "forecast = forecast_result.predicted_mean\n",
    "\n",
    "forecast.index = pd.period_range(start='2025', periods=11, freq='Y')\n",
    "\n",
    "print(forecast.round(0).astype(int).reset_index(drop=False).to_string(index=False,header=False))"
   ]
  }
 ],
 "metadata": {
  "kernelspec": {
   "display_name": "Python 3",
   "language": "python",
   "name": "python3"
  },
  "language_info": {
   "codemirror_mode": {
    "name": "ipython",
    "version": 3
   },
   "file_extension": ".py",
   "mimetype": "text/x-python",
   "name": "python",
   "nbconvert_exporter": "python",
   "pygments_lexer": "ipython3",
   "version": "3.13.5"
  }
 },
 "nbformat": 4,
 "nbformat_minor": 5
}
