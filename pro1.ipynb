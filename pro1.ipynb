{
 "cells": [
  {
   "cell_type": "code",
   "execution_count": 1,
   "id": "452df0d2",
   "metadata": {},
   "outputs": [
    {
     "name": "stdout",
     "output_type": "stream",
     "text": [
      "Accuracy: 1.00\n",
      "Wake-up: 11:00, Sleep: 5 hrs → Prefers: Coffee\n",
      "Wake-up: 5:00, Sleep: 9 hrs → Prefers: Tea\n",
      "Wake-up: 6:00, Sleep: 8 hrs → Prefers: Tea\n"
     ]
    }
   ],
   "source": [
    "from sklearn.ensemble import RandomForestClassifier\n",
    "from sklearn.model_selection import train_test_split\n",
    "from sklearn.metrics import accuracy_score\n",
    "\n",
    "# Dataset: [wake_up_hour, sleep_hours]\n",
    "X = [\n",
    "    [6, 8],\n",
    "    [7, 7],\n",
    "    [8, 6],\n",
    "    [9, 6],\n",
    "    [10, 5],\n",
    "    [5, 9],\n",
    "    [6, 8],\n",
    "    [7, 8],\n",
    "    [11, 5],\n",
    "    [12, 4]\n",
    "]\n",
    "\n",
    "# Target: 0 = Tea, 1 = Coffee\n",
    "y = [0, 0, 1, 1, 1, 0, 0, 0, 1, 1]\n",
    "\n",
    "# Split data\n",
    "X_train, X_test, y_train, y_test = train_test_split(X, y, test_size=0.3, random_state=7)\n",
    "\n",
    "# Train model\n",
    "model = RandomForestClassifier(n_estimators=10, random_state=7)\n",
    "model.fit(X_train, y_train)\n",
    "\n",
    "# Predict and evaluate\n",
    "y_pred = model.predict(X_test)\n",
    "accuracy = accuracy_score(y_test, y_pred)\n",
    "print(f\"Accuracy: {accuracy:.2f}\")\n",
    "\n",
    "# Show predictions\n",
    "for i in range(len(X_test)):\n",
    "    wake, sleep = X_test[i]\n",
    "    drink = \"Coffee\" if y_pred[i] == 1 else \"Tea\"\n",
    "    print(f\"Wake-up: {wake}:00, Sleep: {sleep} hrs → Prefers: {drink}\")"
   ]
  }
 ],
 "metadata": {
  "kernelspec": {
   "display_name": "Python 3",
   "language": "python",
   "name": "python3"
  },
  "language_info": {
   "codemirror_mode": {
    "name": "ipython",
    "version": 3
   },
   "file_extension": ".py",
   "mimetype": "text/x-python",
   "name": "python",
   "nbconvert_exporter": "python",
   "pygments_lexer": "ipython3",
   "version": "3.13.5"
  }
 },
 "nbformat": 4,
 "nbformat_minor": 5
}
