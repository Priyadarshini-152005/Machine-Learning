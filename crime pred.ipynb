{
 "cells": [
  {
   "cell_type": "code",
   "execution_count": 45,
   "id": "b595e9b1",
   "metadata": {},
   "outputs": [
    {
     "name": "stdout",
     "output_type": "stream",
     "text": [
      "Predicted crime rate for 2026: 152.8\n",
      "Predicted crime rate for 2027: 155.5\n"
     ]
    }
   ],
   "source": [
    "import pandas as pd\n",
    "from sklearn.linear_model import LinearRegression\n",
    "\n",
    "data = pd.DataFrame({\n",
    "    'year': [2016,2017,2018, 2019, 2020, 2021, 2022,2023,2024,2025],\n",
    "    'month': [1,7]*5,  \n",
    "    'crime_rate': [125,124,130,142,138,150,146,151,143,148]  \n",
    "})\n",
    "\n",
    "model = LinearRegression().fit(data[['year','month']], data['crime_rate'])\n",
    "\n",
    "prediction = model.predict([[2026,1],[2027,1]])\n",
    "print(f\"Predicted crime rate for 2026: {prediction[0]:.1f}\")\n",
    "print(f\"Predicted crime rate for 2027: {prediction[1]:.1f}\")"
   ]
  }
 ],
 "metadata": {
  "kernelspec": {
   "display_name": "Python 3",
   "language": "python",
   "name": "python3"
  },
  "language_info": {
   "codemirror_mode": {
    "name": "ipython",
    "version": 3
   },
   "file_extension": ".py",
   "mimetype": "text/x-python",
   "name": "python",
   "nbconvert_exporter": "python",
   "pygments_lexer": "ipython3",
   "version": "3.13.5"
  }
 },
 "nbformat": 4,
 "nbformat_minor": 5
}
