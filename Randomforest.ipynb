from sklearn.ensemble import RandomForestClassifier
from sklearn.model_selection import train_test_split
from sklearn.metrics import accuracy_score

# Dataset: [wake_up_hour, sleep_hours]
X = [
    [6, 8],
    [7, 7],
    [8, 6],
    [9, 6],
    [10, 5],
    [5, 9],
    [6, 8],
    [7, 8],
    [11, 5],
    [12, 4]
]

# Target: 0 = Tea, 1 = Coffee
y = [0, 0, 1, 1, 1, 0, 0, 0, 1, 1]

# Split data
X_train, X_test, y_train, y_test = train_test_split(X, y, test_size=0.3, random_state=7)

# Train model
model = RandomForestClassifier(n_estimators=10, random_state=7)
model.fit(X_train, y_train)

# Predict and evaluate
y_pred = model.predict(X_test)
accuracy = accuracy_score(y_test, y_pred)
print(f"Accuracy: {accuracy:.2f}")

# Show predictions
for i in range(len(X_test)):
    wake, sleep = X_test[i]
    drink = "Coffee" if y_pred[i] == 1 else "Tea"
    print(f"Wake-up: {wake}:00, Sleep: {sleep} hrs → Prefers: {drink}")
