{
 "cells": [
  {
   "cell_type": "code",
   "execution_count": 1,
   "id": "fe2997ff",
   "metadata": {},
   "outputs": [
    {
     "name": "stdout",
     "output_type": "stream",
     "text": [
      "Classification Report:\n",
      "\n",
      "              precision    recall  f1-score   support\n",
      "\n",
      "         ham       0.50      1.00      0.67         1\n",
      "        spam       1.00      0.50      0.67         2\n",
      "\n",
      "    accuracy                           0.67         3\n",
      "   macro avg       0.75      0.75      0.67         3\n",
      "weighted avg       0.83      0.67      0.67         3\n",
      "\n"
     ]
    }
   ],
   "source": [
    "from sklearn.feature_extraction.text import CountVectorizer\n",
    "from sklearn.naive_bayes import MultinomialNB\n",
    "from sklearn.model_selection import train_test_split\n",
    "from sklearn.metrics import classification_report\n",
    "\n",
    "texts = [\n",
    "    \"Congratulations, you've won a free ticket!\",\n",
    "    \"Free entry in a prize draw now\",\n",
    "    \"Win cash now by texting WIN to 12345\",\n",
    "    \"Hey, are we still meeting today?\",\n",
    "    \"Don't forget to bring the documents\",\n",
    "    \"See you at the gym later\",\n",
    "    \"Claim your free reward now!\",\n",
    "    \"Can we reschedule our meeting?\",\n",
    "    \"Limited offer only for today!\",\n",
    "    \"How's your weekend going?\"\n",
    "]\n",
    "\n",
    "labels = [\"spam\", \"spam\", \"spam\", \"ham\", \"ham\", \"ham\", \"spam\", \"ham\", \"spam\", \"ham\"]\n",
    "\n",
    "vectorizer = CountVectorizer()\n",
    "X = vectorizer.fit_transform(texts)\n",
    "y = labels\n",
    "\n",
    "X_train, X_test, y_train, y_test = train_test_split(X, y, test_size=0.3, random_state=0)\n",
    "\n",
    "model = MultinomialNB()\n",
    "model.fit(X_train, y_train)\n",
    "\n",
    "y_pred = model.predict(X_test)\n",
    "\n",
    "print(\"Classification Report:\\n\")\n",
    "print(classification_report(y_test, y_pred))"
   ]
  }
 ],
 "metadata": {
  "kernelspec": {
   "display_name": "Python 3",
   "language": "python",
   "name": "python3"
  },
  "language_info": {
   "codemirror_mode": {
    "name": "ipython",
    "version": 3
   },
   "file_extension": ".py",
   "mimetype": "text/x-python",
   "name": "python",
   "nbconvert_exporter": "python",
   "pygments_lexer": "ipython3",
   "version": "3.13.5"
  }
 },
 "nbformat": 4,
 "nbformat_minor": 5
}
